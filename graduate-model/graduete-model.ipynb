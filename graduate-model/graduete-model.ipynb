{
 "cells": [
  {
   "cell_type": "code",
   "execution_count": 5,
   "metadata": {},
   "outputs": [],
   "source": [
    "import csv\n",
    "import numpy as np\n",
    "import random\n",
    "\n",
    "data = []\n",
    "with open(\"DATA (1).csv\", \"r\") as file:\n",
    "    reader = csv.reader(file)\n",
    "    headers = next(reader)\n",
    "    for row in reader:\n",
    "        data.append(row[1:])\n",
    "\n",
    "data = np.array(data, dtype=float)\n",
    "labels = (data[:, -1] >= 3).astype(int)\n",
    "features = data[:, :-1]\n"
   ]
  },
  {
   "cell_type": "code",
   "execution_count": 6,
   "metadata": {},
   "outputs": [
    {
     "name": "stdout",
     "output_type": "stream",
     "text": [
      "Выбранные признаки: [10, 20, 13, 4, 15]\n"
     ]
    }
   ],
   "source": [
    "def select_random_features(features, n):\n",
    "    num_features = features.shape[1]\n",
    "    selected_indices = random.sample(range(num_features), int(np.sqrt(num_features)))\n",
    "    return features[:, selected_indices], selected_indices\n",
    "\n",
    "n = len(features)\n",
    "features, selected_indices = select_random_features(features, n)\n",
    "print(\"Выбранные признаки:\", selected_indices)\n"
   ]
  },
  {
   "cell_type": "code",
   "execution_count": 7,
   "metadata": {},
   "outputs": [],
   "source": [
    "class DecisionTree:\n",
    "    def __init__(self, max_depth=None):\n",
    "        self.max_depth = max_depth\n",
    "        self.tree = None\n",
    "\n",
    "    def fit(self, X, y):\n",
    "        self.tree = self._build_tree(X, y, depth=0)\n",
    "\n",
    "    def _build_tree(self, X, y, depth):\n",
    "        if len(set(y)) == 1 or (self.max_depth and depth >= self.max_depth) or len(y) == 0:\n",
    "            return np.bincount(y).argmax() if len(y) > 0 else None  # добавлена проверка на пустоту y\n",
    "\n",
    "        best_feature, best_threshold = self._best_split(X, y)\n",
    "        if best_feature is None:\n",
    "            return np.bincount(y).argmax()\n",
    "\n",
    "        left_mask = X[:, best_feature] < best_threshold\n",
    "        right_mask = ~left_mask\n",
    "\n",
    "        if np.sum(left_mask) == 0 or np.sum(right_mask) == 0:\n",
    "            return np.bincount(y).argmax()\n",
    "\n",
    "        left = self._build_tree(X[left_mask], y[left_mask], depth + 1)\n",
    "        right = self._build_tree(X[right_mask], y[right_mask], depth + 1)\n",
    "        return (best_feature, best_threshold, left, right)\n",
    "\n",
    "    def _best_split(self, X, y):\n",
    "        best_gini = 1.0\n",
    "        best_feature, best_threshold = None, None\n",
    "        for feature in range(X.shape[1]):\n",
    "            thresholds = np.unique(X[:, feature])\n",
    "            for threshold in thresholds:\n",
    "                left_mask = X[:, feature] < threshold\n",
    "                right_mask = ~left_mask\n",
    "                gini = self._gini_index(y[left_mask], y[right_mask])\n",
    "                if gini < best_gini:\n",
    "                    best_gini = gini\n",
    "                    best_feature, best_threshold = feature, threshold\n",
    "        return best_feature, best_threshold\n",
    "\n",
    "    def _gini_index(self, left, right):\n",
    "        left_gini = 1 - sum((np.sum(left == c) / len(left)) ** 2 for c in np.unique(left)) if len(left) > 0 else 0\n",
    "        right_gini = 1 - sum((np.sum(right == c) / len(right)) ** 2 for c in np.unique(right)) if len(right) > 0 else 0\n",
    "        return (len(left) * left_gini + len(right) * right_gini) / (len(left) + len(right))\n",
    "\n",
    "    def predict(self, X):\n",
    "        return np.array([self._predict_row(row, self.tree) for row in X])\n",
    "\n",
    "    def _predict_row(self, row, node):\n",
    "        if not isinstance(node, tuple):\n",
    "            return node\n",
    "        feature, threshold, left, right = node\n",
    "        if row[feature] < threshold:\n",
    "            return self._predict_row(row, left)\n",
    "        else:\n",
    "            return self._predict_row(row, right)\n"
   ]
  },
  {
   "cell_type": "code",
   "execution_count": 8,
   "metadata": {},
   "outputs": [
    {
     "name": "stdout",
     "output_type": "stream",
     "text": [
      "Accuracy: 0.7172413793103448, Precision: 0.6947368421052632, Recall: 0.8461538461538461\n"
     ]
    }
   ],
   "source": [
    "def accuracy(y_true, y_pred):\n",
    "    return np.sum(y_true == y_pred) / len(y_true)\n",
    "\n",
    "def precision(y_true, y_pred):\n",
    "    true_positives = np.sum((y_pred == 1) & (y_true == 1))\n",
    "    predicted_positives = np.sum(y_pred == 1)\n",
    "    return true_positives / predicted_positives if predicted_positives else 0\n",
    "\n",
    "def recall(y_true, y_pred):\n",
    "    true_positives = np.sum((y_pred == 1) & (y_true == 1))\n",
    "    actual_positives = np.sum(y_true == 1)\n",
    "    return true_positives / actual_positives if actual_positives else 0\n",
    "\n",
    "tree = DecisionTree(max_depth=5)\n",
    "tree.fit(features, labels)\n",
    "predictions = tree.predict(features)\n",
    "\n",
    "acc = accuracy(labels, predictions)\n",
    "prec = precision(labels, predictions)\n",
    "rec = recall(labels, predictions)\n",
    "print(f\"Accuracy: {acc}, Precision: {prec}, Recall: {rec}\")\n"
   ]
  },
  {
   "cell_type": "code",
   "execution_count": 9,
   "metadata": {},
   "outputs": [
    {
     "name": "stdout",
     "output_type": "stream",
     "text": [
      "AUC-ROC: 0.5235361653272103, AUC-PR: 0.10688259109311743\n"
     ]
    }
   ],
   "source": [
    "def calculate_tpr_fpr(y_true, y_scores, threshold):\n",
    "    y_pred = (y_scores >= threshold).astype(int)\n",
    "    tp = np.sum((y_true == 1) & (y_pred == 1))\n",
    "    fp = np.sum((y_true == 0) & (y_pred == 1))\n",
    "    fn = np.sum((y_true == 1) & (y_pred == 0))\n",
    "    tn = np.sum((y_true == 0) & (y_pred == 0))\n",
    "    tpr = tp / (tp + fn) if (tp + fn) else 0\n",
    "    fpr = fp / (fp + tn) if (fp + tn) else 0\n",
    "    precision = tp / (tp + fp) if (tp + fp) else 0\n",
    "    recall = tp / (tp + fn) if (tp + fn) else 0\n",
    "    return tpr, fpr, precision, recall\n",
    "\n",
    "y_scores = predictions\n",
    "roc_points = [calculate_tpr_fpr(labels, y_scores, t) for t in np.linspace(0, 1, 100)]\n",
    "tpr_vals, fpr_vals, prec_vals, rec_vals = zip(*roc_points)\n",
    "\n",
    "auc_roc = np.trapz(sorted(tpr_vals), sorted(fpr_vals))\n",
    "auc_pr = np.trapz(sorted(prec_vals), sorted(rec_vals))\n",
    "print(f\"AUC-ROC: {auc_roc}, AUC-PR: {auc_pr}\")\n"
   ]
  }
 ],
 "metadata": {
  "kernelspec": {
   "display_name": "Python 3",
   "language": "python",
   "name": "python3"
  },
  "language_info": {
   "codemirror_mode": {
    "name": "ipython",
    "version": 3
   },
   "file_extension": ".py",
   "mimetype": "text/x-python",
   "name": "python",
   "nbconvert_exporter": "python",
   "pygments_lexer": "ipython3",
   "version": "3.10.12"
  }
 },
 "nbformat": 4,
 "nbformat_minor": 2
}
